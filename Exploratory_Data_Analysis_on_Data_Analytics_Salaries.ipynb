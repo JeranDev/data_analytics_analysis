{
  "cells": [
    {
      "cell_type": "markdown",
      "metadata": {
        "id": "yfZYmnUK-nXS"
      },
      "source": [
        "# Exploratory Data Analysis on Data Analytics Salaries\n",
        "\n",
        "⌨ Jeran Burget\n",
        "\n",
        "This analysis explores salaries of data analytics professionals around the world to find patterns in the data. Specifically, the goal is to determine which factors influence pay rates around the world and learn more about what a career path might look like for somebody starting out in Data Analytics.\n",
        "\n",
        "## About the data\n",
        "This data set comes from Kaggle user [randomarnab](https://www.kaggle.com/datasets/arnabchaki/data-science-salaries-2023) and contains information about various roles in data analytics from around the world. The data was gathered in 2023 and contains details about each role's experience level, job title, salary, remote ratio, company location, and company size."
      ]
    },
    {
      "cell_type": "code",
      "execution_count": 1,
      "metadata": {
        "id": "_JbG77Cr-hH1"
      },
      "outputs": [],
      "source": [
        "import pandas as pd\n",
        "df = pd.read_csv('data_analytics_salaries.csv')"
      ]
    },
    {
      "cell_type": "markdown",
      "metadata": {
        "id": "siXLCBgYWADj"
      },
      "source": [
        "## Analysis\n",
        "The analysis below explores salaries of data analytics professionals. Specifically, it will explore the following different topics:\n",
        "\n",
        "- How does experience level affect salary?\n",
        "- How does experience level affect remote ratio?\n",
        "- Which job titles are the most common in the United States and how does the job title affect salary?\n",
        "- How have salaries changed between 2020 and 2022 for Data Analysts?\n",
        "- Where are most data analytics positions located (according to this data set)? Which countries pay the most?\n",
        "- What percent of employees are based in another country but are paid in USD?\n",
        "\n",
        "One notable aspect of this data set is the presence of both `salary` and `salary_in_usd` columns. The former details the salary for the position in the local currency where the company is based, whereas the latter column standardizes all of the salaries into USD. Thus, this analysis will exclusively use the `salary_in_usd` column for comparisons."
      ]
    },
    {
      "cell_type": "code",
      "execution_count": 2,
      "metadata": {
        "id": "x1m-EkygUxU3"
      },
      "outputs": [
        {
          "data": {
            "text/html": [
              "<div>\n",
              "<style scoped>\n",
              "    .dataframe tbody tr th:only-of-type {\n",
              "        vertical-align: middle;\n",
              "    }\n",
              "\n",
              "    .dataframe tbody tr th {\n",
              "        vertical-align: top;\n",
              "    }\n",
              "\n",
              "    .dataframe thead th {\n",
              "        text-align: right;\n",
              "    }\n",
              "</style>\n",
              "<table border=\"1\" class=\"dataframe\">\n",
              "  <thead>\n",
              "    <tr style=\"text-align: right;\">\n",
              "      <th></th>\n",
              "      <th>Unnamed: 0</th>\n",
              "      <th>work_year</th>\n",
              "      <th>experience_level</th>\n",
              "      <th>employment_type</th>\n",
              "      <th>job_title</th>\n",
              "      <th>salary</th>\n",
              "      <th>salary_currency</th>\n",
              "      <th>salary_in_usd</th>\n",
              "      <th>employee_residence</th>\n",
              "      <th>remote_ratio</th>\n",
              "      <th>company_location</th>\n",
              "      <th>company_size</th>\n",
              "    </tr>\n",
              "  </thead>\n",
              "  <tbody>\n",
              "    <tr>\n",
              "      <th>0</th>\n",
              "      <td>0</td>\n",
              "      <td>2020</td>\n",
              "      <td>MI</td>\n",
              "      <td>FT</td>\n",
              "      <td>Data Scientist</td>\n",
              "      <td>70000</td>\n",
              "      <td>EUR</td>\n",
              "      <td>79833</td>\n",
              "      <td>DE</td>\n",
              "      <td>0</td>\n",
              "      <td>DE</td>\n",
              "      <td>L</td>\n",
              "    </tr>\n",
              "    <tr>\n",
              "      <th>1</th>\n",
              "      <td>1</td>\n",
              "      <td>2020</td>\n",
              "      <td>SE</td>\n",
              "      <td>FT</td>\n",
              "      <td>Machine Learning Scientist</td>\n",
              "      <td>260000</td>\n",
              "      <td>USD</td>\n",
              "      <td>260000</td>\n",
              "      <td>JP</td>\n",
              "      <td>0</td>\n",
              "      <td>JP</td>\n",
              "      <td>S</td>\n",
              "    </tr>\n",
              "    <tr>\n",
              "      <th>2</th>\n",
              "      <td>2</td>\n",
              "      <td>2020</td>\n",
              "      <td>SE</td>\n",
              "      <td>FT</td>\n",
              "      <td>Big Data Engineer</td>\n",
              "      <td>85000</td>\n",
              "      <td>GBP</td>\n",
              "      <td>109024</td>\n",
              "      <td>GB</td>\n",
              "      <td>50</td>\n",
              "      <td>GB</td>\n",
              "      <td>M</td>\n",
              "    </tr>\n",
              "    <tr>\n",
              "      <th>3</th>\n",
              "      <td>3</td>\n",
              "      <td>2020</td>\n",
              "      <td>MI</td>\n",
              "      <td>FT</td>\n",
              "      <td>Product Data Analyst</td>\n",
              "      <td>20000</td>\n",
              "      <td>USD</td>\n",
              "      <td>20000</td>\n",
              "      <td>HN</td>\n",
              "      <td>0</td>\n",
              "      <td>HN</td>\n",
              "      <td>S</td>\n",
              "    </tr>\n",
              "    <tr>\n",
              "      <th>4</th>\n",
              "      <td>4</td>\n",
              "      <td>2020</td>\n",
              "      <td>SE</td>\n",
              "      <td>FT</td>\n",
              "      <td>Machine Learning Engineer</td>\n",
              "      <td>150000</td>\n",
              "      <td>USD</td>\n",
              "      <td>150000</td>\n",
              "      <td>US</td>\n",
              "      <td>50</td>\n",
              "      <td>US</td>\n",
              "      <td>L</td>\n",
              "    </tr>\n",
              "  </tbody>\n",
              "</table>\n",
              "</div>"
            ],
            "text/plain": [
              "   Unnamed: 0  work_year experience_level employment_type  \\\n",
              "0           0       2020               MI              FT   \n",
              "1           1       2020               SE              FT   \n",
              "2           2       2020               SE              FT   \n",
              "3           3       2020               MI              FT   \n",
              "4           4       2020               SE              FT   \n",
              "\n",
              "                    job_title  salary salary_currency  salary_in_usd  \\\n",
              "0              Data Scientist   70000             EUR          79833   \n",
              "1  Machine Learning Scientist  260000             USD         260000   \n",
              "2           Big Data Engineer   85000             GBP         109024   \n",
              "3        Product Data Analyst   20000             USD          20000   \n",
              "4   Machine Learning Engineer  150000             USD         150000   \n",
              "\n",
              "  employee_residence  remote_ratio company_location company_size  \n",
              "0                 DE             0               DE            L  \n",
              "1                 JP             0               JP            S  \n",
              "2                 GB            50               GB            M  \n",
              "3                 HN             0               HN            S  \n",
              "4                 US            50               US            L  "
            ]
          },
          "execution_count": 2,
          "metadata": {},
          "output_type": "execute_result"
        }
      ],
      "source": [
        "df.head()"
      ]
    },
    {
      "cell_type": "code",
      "execution_count": 3,
      "metadata": {
        "id": "rr6FM_VSWDWZ"
      },
      "outputs": [
        {
          "name": "stdout",
          "output_type": "stream",
          "text": [
            "<class 'pandas.core.frame.DataFrame'>\n",
            "RangeIndex: 607 entries, 0 to 606\n",
            "Data columns (total 12 columns):\n",
            " #   Column              Non-Null Count  Dtype \n",
            "---  ------              --------------  ----- \n",
            " 0   Unnamed: 0          607 non-null    int64 \n",
            " 1   work_year           607 non-null    int64 \n",
            " 2   experience_level    607 non-null    object\n",
            " 3   employment_type     607 non-null    object\n",
            " 4   job_title           607 non-null    object\n",
            " 5   salary              607 non-null    int64 \n",
            " 6   salary_currency     607 non-null    object\n",
            " 7   salary_in_usd       607 non-null    int64 \n",
            " 8   employee_residence  607 non-null    object\n",
            " 9   remote_ratio        607 non-null    int64 \n",
            " 10  company_location    607 non-null    object\n",
            " 11  company_size        607 non-null    object\n",
            "dtypes: int64(5), object(7)\n",
            "memory usage: 57.0+ KB\n"
          ]
        }
      ],
      "source": [
        "df.info()"
      ]
    },
    {
      "cell_type": "code",
      "execution_count": 4,
      "metadata": {
        "id": "1XPDVVxZayOK"
      },
      "outputs": [
        {
          "data": {
            "text/html": [
              "<div>\n",
              "<style scoped>\n",
              "    .dataframe tbody tr th:only-of-type {\n",
              "        vertical-align: middle;\n",
              "    }\n",
              "\n",
              "    .dataframe tbody tr th {\n",
              "        vertical-align: top;\n",
              "    }\n",
              "\n",
              "    .dataframe thead th {\n",
              "        text-align: right;\n",
              "    }\n",
              "</style>\n",
              "<table border=\"1\" class=\"dataframe\">\n",
              "  <thead>\n",
              "    <tr style=\"text-align: right;\">\n",
              "      <th></th>\n",
              "      <th>Unnamed: 0</th>\n",
              "      <th>work_year</th>\n",
              "      <th>salary</th>\n",
              "      <th>salary_in_usd</th>\n",
              "      <th>remote_ratio</th>\n",
              "    </tr>\n",
              "  </thead>\n",
              "  <tbody>\n",
              "    <tr>\n",
              "      <th>count</th>\n",
              "      <td>607.000000</td>\n",
              "      <td>607.000000</td>\n",
              "      <td>6.070000e+02</td>\n",
              "      <td>607.000000</td>\n",
              "      <td>607.00000</td>\n",
              "    </tr>\n",
              "    <tr>\n",
              "      <th>mean</th>\n",
              "      <td>303.000000</td>\n",
              "      <td>2021.405272</td>\n",
              "      <td>3.240001e+05</td>\n",
              "      <td>112297.869852</td>\n",
              "      <td>70.92257</td>\n",
              "    </tr>\n",
              "    <tr>\n",
              "      <th>std</th>\n",
              "      <td>175.370085</td>\n",
              "      <td>0.692133</td>\n",
              "      <td>1.544357e+06</td>\n",
              "      <td>70957.259411</td>\n",
              "      <td>40.70913</td>\n",
              "    </tr>\n",
              "    <tr>\n",
              "      <th>min</th>\n",
              "      <td>0.000000</td>\n",
              "      <td>2020.000000</td>\n",
              "      <td>4.000000e+03</td>\n",
              "      <td>2859.000000</td>\n",
              "      <td>0.00000</td>\n",
              "    </tr>\n",
              "    <tr>\n",
              "      <th>25%</th>\n",
              "      <td>151.500000</td>\n",
              "      <td>2021.000000</td>\n",
              "      <td>7.000000e+04</td>\n",
              "      <td>62726.000000</td>\n",
              "      <td>50.00000</td>\n",
              "    </tr>\n",
              "    <tr>\n",
              "      <th>50%</th>\n",
              "      <td>303.000000</td>\n",
              "      <td>2022.000000</td>\n",
              "      <td>1.150000e+05</td>\n",
              "      <td>101570.000000</td>\n",
              "      <td>100.00000</td>\n",
              "    </tr>\n",
              "    <tr>\n",
              "      <th>75%</th>\n",
              "      <td>454.500000</td>\n",
              "      <td>2022.000000</td>\n",
              "      <td>1.650000e+05</td>\n",
              "      <td>150000.000000</td>\n",
              "      <td>100.00000</td>\n",
              "    </tr>\n",
              "    <tr>\n",
              "      <th>max</th>\n",
              "      <td>606.000000</td>\n",
              "      <td>2022.000000</td>\n",
              "      <td>3.040000e+07</td>\n",
              "      <td>600000.000000</td>\n",
              "      <td>100.00000</td>\n",
              "    </tr>\n",
              "  </tbody>\n",
              "</table>\n",
              "</div>"
            ],
            "text/plain": [
              "       Unnamed: 0    work_year        salary  salary_in_usd  remote_ratio\n",
              "count  607.000000   607.000000  6.070000e+02     607.000000     607.00000\n",
              "mean   303.000000  2021.405272  3.240001e+05  112297.869852      70.92257\n",
              "std    175.370085     0.692133  1.544357e+06   70957.259411      40.70913\n",
              "min      0.000000  2020.000000  4.000000e+03    2859.000000       0.00000\n",
              "25%    151.500000  2021.000000  7.000000e+04   62726.000000      50.00000\n",
              "50%    303.000000  2022.000000  1.150000e+05  101570.000000     100.00000\n",
              "75%    454.500000  2022.000000  1.650000e+05  150000.000000     100.00000\n",
              "max    606.000000  2022.000000  3.040000e+07  600000.000000     100.00000"
            ]
          },
          "execution_count": 4,
          "metadata": {},
          "output_type": "execute_result"
        }
      ],
      "source": [
        "df.describe()"
      ]
    },
    {
      "cell_type": "markdown",
      "metadata": {
        "id": "NdengnC1dVP-"
      },
      "source": [
        "### How does experience level affect salary?\n",
        "\n",
        "At first glance, experience level seems to be the obvious candidate for the most influential variable in determining salary for data analytics professionals. This analysis assumes that the experiences levels are, in order from least amount of experience to greatest:\n",
        "\n",
        "1. EN - Entry level\n",
        "2. MI - Mid-level\n",
        "3. SE - Senior level\n",
        "4. EX - Executive level\n",
        "\n",
        "According to the output of the code below, average salary tends to increase, as hypothesized, as experience level increases. However, these figures may be skewed because part-time salaries are included in the data set. Because part-time workers are more likely to be entry level and mid-level, the lower salaries of these positions (which are caused by working few hours) should be removed for this part of the analysis."
      ]
    },
    {
      "cell_type": "code",
      "execution_count": 149,
      "metadata": {
        "id": "jlwALIS5bXhj"
      },
      "outputs": [
        {
          "data": {
            "text/html": [
              "<div>\n",
              "<style scoped>\n",
              "    .dataframe tbody tr th:only-of-type {\n",
              "        vertical-align: middle;\n",
              "    }\n",
              "\n",
              "    .dataframe tbody tr th {\n",
              "        vertical-align: top;\n",
              "    }\n",
              "\n",
              "    .dataframe thead th {\n",
              "        text-align: right;\n",
              "    }\n",
              "</style>\n",
              "<table border=\"1\" class=\"dataframe\">\n",
              "  <thead>\n",
              "    <tr style=\"text-align: right;\">\n",
              "      <th></th>\n",
              "      <th>salary_in_usd</th>\n",
              "    </tr>\n",
              "    <tr>\n",
              "      <th>experience_level</th>\n",
              "      <th></th>\n",
              "    </tr>\n",
              "  </thead>\n",
              "  <tbody>\n",
              "    <tr>\n",
              "      <th>EN</th>\n",
              "      <td>61643.0</td>\n",
              "    </tr>\n",
              "    <tr>\n",
              "      <th>MI</th>\n",
              "      <td>87996.0</td>\n",
              "    </tr>\n",
              "    <tr>\n",
              "      <th>SE</th>\n",
              "      <td>138617.0</td>\n",
              "    </tr>\n",
              "    <tr>\n",
              "      <th>EX</th>\n",
              "      <td>199392.0</td>\n",
              "    </tr>\n",
              "  </tbody>\n",
              "</table>\n",
              "</div>"
            ],
            "text/plain": [
              "                  salary_in_usd\n",
              "experience_level               \n",
              "EN                      61643.0\n",
              "MI                      87996.0\n",
              "SE                     138617.0\n",
              "EX                     199392.0"
            ]
          },
          "execution_count": 149,
          "metadata": {},
          "output_type": "execute_result"
        }
      ],
      "source": [
        "round(df[['experience_level', 'salary_in_usd']].groupby('experience_level').mean().sort_values(by='salary_in_usd'), 0)"
      ]
    },
    {
      "cell_type": "markdown",
      "metadata": {
        "id": "eFk6DGuLlGPQ"
      },
      "source": [
        "The code below creates a subset of the data that contains only positions that were full time. Recalculating the average salary for each experience level among this new subset brought the average salaries closer together only slightly. The change in average salary was most unnoticeable."
      ]
    },
    {
      "cell_type": "code",
      "execution_count": 150,
      "metadata": {
        "id": "4FQlCFUpjFdb"
      },
      "outputs": [
        {
          "data": {
            "text/html": [
              "<div>\n",
              "<style scoped>\n",
              "    .dataframe tbody tr th:only-of-type {\n",
              "        vertical-align: middle;\n",
              "    }\n",
              "\n",
              "    .dataframe tbody tr th {\n",
              "        vertical-align: top;\n",
              "    }\n",
              "\n",
              "    .dataframe thead th {\n",
              "        text-align: right;\n",
              "    }\n",
              "</style>\n",
              "<table border=\"1\" class=\"dataframe\">\n",
              "  <thead>\n",
              "    <tr style=\"text-align: right;\">\n",
              "      <th></th>\n",
              "      <th>salary_in_usd</th>\n",
              "    </tr>\n",
              "    <tr>\n",
              "      <th>experience_level</th>\n",
              "      <th></th>\n",
              "    </tr>\n",
              "  </thead>\n",
              "  <tbody>\n",
              "    <tr>\n",
              "      <th>EN</th>\n",
              "      <td>64457.0</td>\n",
              "    </tr>\n",
              "    <tr>\n",
              "      <th>MI</th>\n",
              "      <td>88403.0</td>\n",
              "    </tr>\n",
              "    <tr>\n",
              "      <th>SE</th>\n",
              "      <td>139021.0</td>\n",
              "    </tr>\n",
              "    <tr>\n",
              "      <th>EX</th>\n",
              "      <td>190728.0</td>\n",
              "    </tr>\n",
              "  </tbody>\n",
              "</table>\n",
              "</div>"
            ],
            "text/plain": [
              "                  salary_in_usd\n",
              "experience_level               \n",
              "EN                      64457.0\n",
              "MI                      88403.0\n",
              "SE                     139021.0\n",
              "EX                     190728.0"
            ]
          },
          "execution_count": 150,
          "metadata": {},
          "output_type": "execute_result"
        }
      ],
      "source": [
        "full_time_employees = df[df['employment_type'] == 'FT']\n",
        "round(full_time_employees[['experience_level', 'salary_in_usd']].groupby('experience_level').mean().sort_values(by='salary_in_usd'), 0)"
      ]
    },
    {
      "cell_type": "markdown",
      "metadata": {
        "id": "zrCCF-45lgT-"
      },
      "source": [
        "From this analysis, I can conclude that experience is necessary to obtaining a higher salary. Salaries tend to vary greatly across different experience levels, meaning that experience is likely very influential for determining a person's salary."
      ]
    },
    {
      "cell_type": "markdown",
      "metadata": {
        "id": "O5QnhMvyldET"
      },
      "source": [
        "### How does experience level affect remote ratio?\n",
        "When determining how much employees are allowed to work remotely, I immediately think that senior employees are given more liberty to work from home than employees with less experience.\n",
        "\n",
        "However, according to the results of the code below, it looks like exectives have the highest average remote ratio, beating senior employees by 2.953297.\n",
        "\n",
        "Interestingly, entry-level employees have a higher remote ratio than mid-level employees."
      ]
    },
    {
      "cell_type": "code",
      "execution_count": 151,
      "metadata": {},
      "outputs": [
        {
          "data": {
            "text/html": [
              "<div>\n",
              "<style scoped>\n",
              "    .dataframe tbody tr th:only-of-type {\n",
              "        vertical-align: middle;\n",
              "    }\n",
              "\n",
              "    .dataframe tbody tr th {\n",
              "        vertical-align: top;\n",
              "    }\n",
              "\n",
              "    .dataframe thead th {\n",
              "        text-align: right;\n",
              "    }\n",
              "</style>\n",
              "<table border=\"1\" class=\"dataframe\">\n",
              "  <thead>\n",
              "    <tr style=\"text-align: right;\">\n",
              "      <th></th>\n",
              "      <th>remote_ratio</th>\n",
              "    </tr>\n",
              "    <tr>\n",
              "      <th>experience_level</th>\n",
              "      <th></th>\n",
              "    </tr>\n",
              "  </thead>\n",
              "  <tbody>\n",
              "    <tr>\n",
              "      <th>EX</th>\n",
              "      <td>78.8</td>\n",
              "    </tr>\n",
              "    <tr>\n",
              "      <th>SE</th>\n",
              "      <td>75.9</td>\n",
              "    </tr>\n",
              "    <tr>\n",
              "      <th>EN</th>\n",
              "      <td>69.9</td>\n",
              "    </tr>\n",
              "    <tr>\n",
              "      <th>MI</th>\n",
              "      <td>63.8</td>\n",
              "    </tr>\n",
              "  </tbody>\n",
              "</table>\n",
              "</div>"
            ],
            "text/plain": [
              "                  remote_ratio\n",
              "experience_level              \n",
              "EX                        78.8\n",
              "SE                        75.9\n",
              "EN                        69.9\n",
              "MI                        63.8"
            ]
          },
          "execution_count": 151,
          "metadata": {},
          "output_type": "execute_result"
        }
      ],
      "source": [
        "round(df[['experience_level', 'remote_ratio']].groupby('experience_level').mean().sort_values('remote_ratio', ascending=False), 1)"
      ]
    },
    {
      "cell_type": "markdown",
      "metadata": {},
      "source": [
        "The year 2022 saw an increase in the remote ratio for employees in several different experience levels. Which one saw the biggest increase in average remote ratio?\n",
        "\n",
        "According to the code below, it looks like executives had a massive remote ratio increase compared to the other roles, while mid-level employees actually saw a decrease."
      ]
    },
    {
      "cell_type": "code",
      "execution_count": 152,
      "metadata": {},
      "outputs": [
        {
          "data": {
            "text/html": [
              "<div>\n",
              "<style scoped>\n",
              "    .dataframe tbody tr th:only-of-type {\n",
              "        vertical-align: middle;\n",
              "    }\n",
              "\n",
              "    .dataframe tbody tr th {\n",
              "        vertical-align: top;\n",
              "    }\n",
              "\n",
              "    .dataframe thead th {\n",
              "        text-align: right;\n",
              "    }\n",
              "</style>\n",
              "<table border=\"1\" class=\"dataframe\">\n",
              "  <thead>\n",
              "    <tr style=\"text-align: right;\">\n",
              "      <th></th>\n",
              "      <th></th>\n",
              "      <th>remote_ratio</th>\n",
              "    </tr>\n",
              "    <tr>\n",
              "      <th>experience_level</th>\n",
              "      <th>work_year</th>\n",
              "      <th></th>\n",
              "    </tr>\n",
              "  </thead>\n",
              "  <tbody>\n",
              "    <tr>\n",
              "      <th rowspan=\"2\" valign=\"top\">EN</th>\n",
              "      <th>2021</th>\n",
              "      <td>70.2</td>\n",
              "    </tr>\n",
              "    <tr>\n",
              "      <th>2022</th>\n",
              "      <td>73.8</td>\n",
              "    </tr>\n",
              "    <tr>\n",
              "      <th rowspan=\"2\" valign=\"top\">EX</th>\n",
              "      <th>2021</th>\n",
              "      <td>63.6</td>\n",
              "    </tr>\n",
              "    <tr>\n",
              "      <th>2022</th>\n",
              "      <td>92.3</td>\n",
              "    </tr>\n",
              "    <tr>\n",
              "      <th rowspan=\"2\" valign=\"top\">MI</th>\n",
              "      <th>2021</th>\n",
              "      <td>67.2</td>\n",
              "    </tr>\n",
              "    <tr>\n",
              "      <th>2022</th>\n",
              "      <td>61.0</td>\n",
              "    </tr>\n",
              "    <tr>\n",
              "      <th rowspan=\"2\" valign=\"top\">SE</th>\n",
              "      <th>2021</th>\n",
              "      <td>71.7</td>\n",
              "    </tr>\n",
              "    <tr>\n",
              "      <th>2022</th>\n",
              "      <td>78.2</td>\n",
              "    </tr>\n",
              "  </tbody>\n",
              "</table>\n",
              "</div>"
            ],
            "text/plain": [
              "                            remote_ratio\n",
              "experience_level work_year              \n",
              "EN               2021               70.2\n",
              "                 2022               73.8\n",
              "EX               2021               63.6\n",
              "                 2022               92.3\n",
              "MI               2021               67.2\n",
              "                 2022               61.0\n",
              "SE               2021               71.7\n",
              "                 2022               78.2"
            ]
          },
          "execution_count": 152,
          "metadata": {},
          "output_type": "execute_result"
        }
      ],
      "source": [
        "years_2021_and_2022_df = df[(df['work_year'] == 2021) | (df['work_year'] == 2022)]\n",
        "round(years_2021_and_2022_df[['experience_level', 'work_year', 'remote_ratio']].groupby(['experience_level', 'work_year']).mean(), 1)"
      ]
    },
    {
      "cell_type": "markdown",
      "metadata": {},
      "source": [
        "### Which job titles are the most common in the United States and how does the job title affect salary?\n",
        "\n"
      ]
    },
    {
      "cell_type": "markdown",
      "metadata": {},
      "source": [
        "The code below shows the most common job titles in the US."
      ]
    },
    {
      "cell_type": "code",
      "execution_count": 133,
      "metadata": {},
      "outputs": [
        {
          "data": {
            "text/plain": [
              "job_title\n",
              "Data Engineer                               85\n",
              "Data Scientist                              84\n",
              "Data Analyst                                71\n",
              "Machine Learning Engineer                   16\n",
              "Data Science Manager                        10\n",
              "Data Architect                               9\n",
              "Data Analytics Manager                       7\n",
              "BI Data Analyst                              5\n",
              "Machine Learning Scientist                   5\n",
              "Analytics Engineer                           4\n",
              "Principal Data Scientist                     4\n",
              "AI Scientist                                 4\n",
              "Research Scientist                           4\n",
              "Head of Data Science                         3\n",
              "Lead Data Engineer                           3\n",
              "Data Engineering Manager                     3\n",
              "Applied Data Scientist                       3\n",
              "Applied Machine Learning Scientist           3\n",
              "Principal Data Engineer                      3\n",
              "Computer Vision Software Engineer            2\n",
              "Financial Data Analyst                       2\n",
              "Head of Data                                 2\n",
              "Computer Vision Engineer                     2\n",
              "Data Science Consultant                      2\n",
              "Business Data Analyst                        2\n",
              "Director of Data Science                     2\n",
              "ML Engineer                                  2\n",
              "Lead Data Analyst                            2\n",
              "Data Analytics Engineer                      1\n",
              "Principal Data Analyst                       1\n",
              "Lead Data Scientist                          1\n",
              "NLP Engineer                                 1\n",
              "Staff Data Scientist                         1\n",
              "Machine Learning Infrastructure Engineer     1\n",
              "Director of Data Engineering                 1\n",
              "Data Specialist                              1\n",
              "Big Data Engineer                            1\n",
              "Cloud Data Engineer                          1\n",
              "Data Analytics Lead                          1\n",
              "Name: count, dtype: int64"
            ]
          },
          "execution_count": 133,
          "metadata": {},
          "output_type": "execute_result"
        }
      ],
      "source": [
        "US_df = df[df['company_location'] == \"US\"]\n",
        "US_df['job_title'].value_counts()"
      ]
    },
    {
      "cell_type": "markdown",
      "metadata": {},
      "source": [
        "The code snippet below shows the median salary for data analysts in the United States."
      ]
    },
    {
      "cell_type": "code",
      "execution_count": 156,
      "metadata": {},
      "outputs": [
        {
          "data": {
            "text/plain": [
              "106260.0"
            ]
          },
          "execution_count": 156,
          "metadata": {},
          "output_type": "execute_result"
        }
      ],
      "source": [
        "US_data_analyst_df = df[(df['company_location'] == 'US') & (df['job_title'] == 'Data Analyst')]\n",
        "round(US_data_analyst_df['salary_in_usd'].median(), 0)"
      ]
    },
    {
      "cell_type": "markdown",
      "metadata": {},
      "source": [
        "The code snippet below shows the standard deviation for salaries for machine learning engineers in the United States"
      ]
    },
    {
      "cell_type": "code",
      "execution_count": 154,
      "metadata": {},
      "outputs": [
        {
          "data": {
            "text/plain": [
              "44460.0"
            ]
          },
          "execution_count": 154,
          "metadata": {},
          "output_type": "execute_result"
        }
      ],
      "source": [
        "US_machine_learning_engineers_df = df[(df['company_location'] == 'US') & (df['job_title'] == 'Machine Learning Engineer')]\n",
        "round(US_machine_learning_engineers_df['salary_in_usd'].std(), 0)"
      ]
    },
    {
      "cell_type": "markdown",
      "metadata": {},
      "source": [
        "The code snippet below shows the average salary for data engineers in the United States"
      ]
    },
    {
      "cell_type": "code",
      "execution_count": 155,
      "metadata": {},
      "outputs": [
        {
          "data": {
            "text/plain": [
              "139724.68"
            ]
          },
          "execution_count": 155,
          "metadata": {},
          "output_type": "execute_result"
        }
      ],
      "source": [
        "US_data_engineers_df = df[(df['company_location'] == 'US') & (df['job_title'] == 'Data Engineer')]\n",
        "round(US_data_engineers_df['salary_in_usd'].mean(), 2)"
      ]
    },
    {
      "cell_type": "markdown",
      "metadata": {
        "id": "phmwboOc_CRc"
      },
      "source": [
        "### How have salaries changed between 2020 and 2022 for Data Analysts?\n",
        "\n",
        "It looks like the salaries for data analysts as a whole has changed quite a bit, seeing a little increase in 2021, with a large increase in 2022."
      ]
    },
    {
      "cell_type": "code",
      "execution_count": 158,
      "metadata": {
        "id": "BO4Xf-o2925B"
      },
      "outputs": [
        {
          "data": {
            "text/html": [
              "<div>\n",
              "<style scoped>\n",
              "    .dataframe tbody tr th:only-of-type {\n",
              "        vertical-align: middle;\n",
              "    }\n",
              "\n",
              "    .dataframe tbody tr th {\n",
              "        vertical-align: top;\n",
              "    }\n",
              "\n",
              "    .dataframe thead th {\n",
              "        text-align: right;\n",
              "    }\n",
              "</style>\n",
              "<table border=\"1\" class=\"dataframe\">\n",
              "  <thead>\n",
              "    <tr style=\"text-align: right;\">\n",
              "      <th></th>\n",
              "      <th>salary_in_usd</th>\n",
              "    </tr>\n",
              "    <tr>\n",
              "      <th>work_year</th>\n",
              "      <th></th>\n",
              "    </tr>\n",
              "  </thead>\n",
              "  <tbody>\n",
              "    <tr>\n",
              "      <th>2020</th>\n",
              "      <td>45547.0</td>\n",
              "    </tr>\n",
              "    <tr>\n",
              "      <th>2021</th>\n",
              "      <td>79505.0</td>\n",
              "    </tr>\n",
              "    <tr>\n",
              "      <th>2022</th>\n",
              "      <td>100551.0</td>\n",
              "    </tr>\n",
              "  </tbody>\n",
              "</table>\n",
              "</div>"
            ],
            "text/plain": [
              "           salary_in_usd\n",
              "work_year               \n",
              "2020             45547.0\n",
              "2021             79505.0\n",
              "2022            100551.0"
            ]
          },
          "execution_count": 158,
          "metadata": {},
          "output_type": "execute_result"
        }
      ],
      "source": [
        "data_analysts_years_2020_through_2022_df = df[(df['job_title'] == 'Data Analyst') & (df['work_year'] >= 2020) & (df['work_year'] <= 2022)]\n",
        "round(data_analysts_years_2020_through_2022_df[['work_year', 'salary_in_usd']].groupby('work_year').mean(), 0)"
      ]
    },
    {
      "cell_type": "markdown",
      "metadata": {
        "id": "4sk7XAF3BXRD"
      },
      "source": [
        "### Where are most data analytics positions located (according to this data set)? Which countries pay the most?\n",
        "\n",
        "It looks like the large majority of data analytics positions are in the US, while the top salary countries are Russia, the US, and New Zealand."
      ]
    },
    {
      "cell_type": "code",
      "execution_count": 159,
      "metadata": {
        "id": "5DHaVSQ4A9xJ"
      },
      "outputs": [
        {
          "data": {
            "text/html": [
              "<div>\n",
              "<style scoped>\n",
              "    .dataframe tbody tr th:only-of-type {\n",
              "        vertical-align: middle;\n",
              "    }\n",
              "\n",
              "    .dataframe tbody tr th {\n",
              "        vertical-align: top;\n",
              "    }\n",
              "\n",
              "    .dataframe thead th {\n",
              "        text-align: right;\n",
              "    }\n",
              "</style>\n",
              "<table border=\"1\" class=\"dataframe\">\n",
              "  <thead>\n",
              "    <tr style=\"text-align: right;\">\n",
              "      <th></th>\n",
              "      <th>company_location</th>\n",
              "      <th>salary_in_usd</th>\n",
              "    </tr>\n",
              "    <tr>\n",
              "      <th>company_location</th>\n",
              "      <th></th>\n",
              "      <th></th>\n",
              "    </tr>\n",
              "  </thead>\n",
              "  <tbody>\n",
              "    <tr>\n",
              "      <th>RU</th>\n",
              "      <td>2</td>\n",
              "      <td>157500.0</td>\n",
              "    </tr>\n",
              "    <tr>\n",
              "      <th>US</th>\n",
              "      <td>355</td>\n",
              "      <td>144055.0</td>\n",
              "    </tr>\n",
              "    <tr>\n",
              "      <th>NZ</th>\n",
              "      <td>1</td>\n",
              "      <td>125000.0</td>\n",
              "    </tr>\n",
              "    <tr>\n",
              "      <th>IL</th>\n",
              "      <td>1</td>\n",
              "      <td>119059.0</td>\n",
              "    </tr>\n",
              "    <tr>\n",
              "      <th>JP</th>\n",
              "      <td>6</td>\n",
              "      <td>114127.0</td>\n",
              "    </tr>\n",
              "    <tr>\n",
              "      <th>AU</th>\n",
              "      <td>3</td>\n",
              "      <td>108043.0</td>\n",
              "    </tr>\n",
              "    <tr>\n",
              "      <th>AE</th>\n",
              "      <td>3</td>\n",
              "      <td>100000.0</td>\n",
              "    </tr>\n",
              "    <tr>\n",
              "      <th>DZ</th>\n",
              "      <td>1</td>\n",
              "      <td>100000.0</td>\n",
              "    </tr>\n",
              "    <tr>\n",
              "      <th>IQ</th>\n",
              "      <td>1</td>\n",
              "      <td>100000.0</td>\n",
              "    </tr>\n",
              "    <tr>\n",
              "      <th>CA</th>\n",
              "      <td>30</td>\n",
              "      <td>99824.0</td>\n",
              "    </tr>\n",
              "    <tr>\n",
              "      <th>SG</th>\n",
              "      <td>1</td>\n",
              "      <td>89294.0</td>\n",
              "    </tr>\n",
              "    <tr>\n",
              "      <th>BE</th>\n",
              "      <td>2</td>\n",
              "      <td>85699.0</td>\n",
              "    </tr>\n",
              "    <tr>\n",
              "      <th>DE</th>\n",
              "      <td>28</td>\n",
              "      <td>81887.0</td>\n",
              "    </tr>\n",
              "    <tr>\n",
              "      <th>GB</th>\n",
              "      <td>47</td>\n",
              "      <td>81583.0</td>\n",
              "    </tr>\n",
              "    <tr>\n",
              "      <th>AT</th>\n",
              "      <td>4</td>\n",
              "      <td>72921.0</td>\n",
              "    </tr>\n",
              "    <tr>\n",
              "      <th>CN</th>\n",
              "      <td>2</td>\n",
              "      <td>71666.0</td>\n",
              "    </tr>\n",
              "    <tr>\n",
              "      <th>IE</th>\n",
              "      <td>1</td>\n",
              "      <td>71444.0</td>\n",
              "    </tr>\n",
              "    <tr>\n",
              "      <th>PL</th>\n",
              "      <td>4</td>\n",
              "      <td>66082.0</td>\n",
              "    </tr>\n",
              "    <tr>\n",
              "      <th>CH</th>\n",
              "      <td>2</td>\n",
              "      <td>64114.0</td>\n",
              "    </tr>\n",
              "    <tr>\n",
              "      <th>FR</th>\n",
              "      <td>15</td>\n",
              "      <td>63971.0</td>\n",
              "    </tr>\n",
              "    <tr>\n",
              "      <th>SI</th>\n",
              "      <td>2</td>\n",
              "      <td>63831.0</td>\n",
              "    </tr>\n",
              "    <tr>\n",
              "      <th>RO</th>\n",
              "      <td>1</td>\n",
              "      <td>60000.0</td>\n",
              "    </tr>\n",
              "    <tr>\n",
              "      <th>NL</th>\n",
              "      <td>4</td>\n",
              "      <td>54946.0</td>\n",
              "    </tr>\n",
              "    <tr>\n",
              "      <th>DK</th>\n",
              "      <td>3</td>\n",
              "      <td>54386.0</td>\n",
              "    </tr>\n",
              "    <tr>\n",
              "      <th>ES</th>\n",
              "      <td>14</td>\n",
              "      <td>53060.0</td>\n",
              "    </tr>\n",
              "    <tr>\n",
              "      <th>GR</th>\n",
              "      <td>11</td>\n",
              "      <td>52293.0</td>\n",
              "    </tr>\n",
              "    <tr>\n",
              "      <th>CZ</th>\n",
              "      <td>2</td>\n",
              "      <td>50937.0</td>\n",
              "    </tr>\n",
              "    <tr>\n",
              "      <th>PT</th>\n",
              "      <td>4</td>\n",
              "      <td>47794.0</td>\n",
              "    </tr>\n",
              "    <tr>\n",
              "      <th>HR</th>\n",
              "      <td>1</td>\n",
              "      <td>45618.0</td>\n",
              "    </tr>\n",
              "    <tr>\n",
              "      <th>LU</th>\n",
              "      <td>3</td>\n",
              "      <td>43943.0</td>\n",
              "    </tr>\n",
              "    <tr>\n",
              "      <th>CL</th>\n",
              "      <td>1</td>\n",
              "      <td>40038.0</td>\n",
              "    </tr>\n",
              "    <tr>\n",
              "      <th>MY</th>\n",
              "      <td>1</td>\n",
              "      <td>40000.0</td>\n",
              "    </tr>\n",
              "    <tr>\n",
              "      <th>IT</th>\n",
              "      <td>2</td>\n",
              "      <td>36366.0</td>\n",
              "    </tr>\n",
              "    <tr>\n",
              "      <th>HU</th>\n",
              "      <td>1</td>\n",
              "      <td>35735.0</td>\n",
              "    </tr>\n",
              "    <tr>\n",
              "      <th>EE</th>\n",
              "      <td>1</td>\n",
              "      <td>32974.0</td>\n",
              "    </tr>\n",
              "    <tr>\n",
              "      <th>MX</th>\n",
              "      <td>3</td>\n",
              "      <td>32123.0</td>\n",
              "    </tr>\n",
              "    <tr>\n",
              "      <th>NG</th>\n",
              "      <td>2</td>\n",
              "      <td>30000.0</td>\n",
              "    </tr>\n",
              "    <tr>\n",
              "      <th>IN</th>\n",
              "      <td>24</td>\n",
              "      <td>28582.0</td>\n",
              "    </tr>\n",
              "    <tr>\n",
              "      <th>MT</th>\n",
              "      <td>1</td>\n",
              "      <td>28369.0</td>\n",
              "    </tr>\n",
              "    <tr>\n",
              "      <th>CO</th>\n",
              "      <td>1</td>\n",
              "      <td>21844.0</td>\n",
              "    </tr>\n",
              "    <tr>\n",
              "      <th>TR</th>\n",
              "      <td>3</td>\n",
              "      <td>20097.0</td>\n",
              "    </tr>\n",
              "    <tr>\n",
              "      <th>HN</th>\n",
              "      <td>1</td>\n",
              "      <td>20000.0</td>\n",
              "    </tr>\n",
              "    <tr>\n",
              "      <th>BR</th>\n",
              "      <td>3</td>\n",
              "      <td>18603.0</td>\n",
              "    </tr>\n",
              "    <tr>\n",
              "      <th>AS</th>\n",
              "      <td>1</td>\n",
              "      <td>18053.0</td>\n",
              "    </tr>\n",
              "    <tr>\n",
              "      <th>MD</th>\n",
              "      <td>1</td>\n",
              "      <td>18000.0</td>\n",
              "    </tr>\n",
              "    <tr>\n",
              "      <th>UA</th>\n",
              "      <td>1</td>\n",
              "      <td>13400.0</td>\n",
              "    </tr>\n",
              "    <tr>\n",
              "      <th>PK</th>\n",
              "      <td>3</td>\n",
              "      <td>13333.0</td>\n",
              "    </tr>\n",
              "    <tr>\n",
              "      <th>KE</th>\n",
              "      <td>1</td>\n",
              "      <td>9272.0</td>\n",
              "    </tr>\n",
              "    <tr>\n",
              "      <th>IR</th>\n",
              "      <td>1</td>\n",
              "      <td>4000.0</td>\n",
              "    </tr>\n",
              "    <tr>\n",
              "      <th>VN</th>\n",
              "      <td>1</td>\n",
              "      <td>4000.0</td>\n",
              "    </tr>\n",
              "  </tbody>\n",
              "</table>\n",
              "</div>"
            ],
            "text/plain": [
              "                  company_location  salary_in_usd\n",
              "company_location                                 \n",
              "RU                               2       157500.0\n",
              "US                             355       144055.0\n",
              "NZ                               1       125000.0\n",
              "IL                               1       119059.0\n",
              "JP                               6       114127.0\n",
              "AU                               3       108043.0\n",
              "AE                               3       100000.0\n",
              "DZ                               1       100000.0\n",
              "IQ                               1       100000.0\n",
              "CA                              30        99824.0\n",
              "SG                               1        89294.0\n",
              "BE                               2        85699.0\n",
              "DE                              28        81887.0\n",
              "GB                              47        81583.0\n",
              "AT                               4        72921.0\n",
              "CN                               2        71666.0\n",
              "IE                               1        71444.0\n",
              "PL                               4        66082.0\n",
              "CH                               2        64114.0\n",
              "FR                              15        63971.0\n",
              "SI                               2        63831.0\n",
              "RO                               1        60000.0\n",
              "NL                               4        54946.0\n",
              "DK                               3        54386.0\n",
              "ES                              14        53060.0\n",
              "GR                              11        52293.0\n",
              "CZ                               2        50937.0\n",
              "PT                               4        47794.0\n",
              "HR                               1        45618.0\n",
              "LU                               3        43943.0\n",
              "CL                               1        40038.0\n",
              "MY                               1        40000.0\n",
              "IT                               2        36366.0\n",
              "HU                               1        35735.0\n",
              "EE                               1        32974.0\n",
              "MX                               3        32123.0\n",
              "NG                               2        30000.0\n",
              "IN                              24        28582.0\n",
              "MT                               1        28369.0\n",
              "CO                               1        21844.0\n",
              "TR                               3        20097.0\n",
              "HN                               1        20000.0\n",
              "BR                               3        18603.0\n",
              "AS                               1        18053.0\n",
              "MD                               1        18000.0\n",
              "UA                               1        13400.0\n",
              "PK                               3        13333.0\n",
              "KE                               1         9272.0\n",
              "IR                               1         4000.0\n",
              "VN                               1         4000.0"
            ]
          },
          "execution_count": 159,
          "metadata": {},
          "output_type": "execute_result"
        }
      ],
      "source": [
        "company_location_and_salary_agg = {'company_location': 'count', 'salary_in_usd': 'mean'}\n",
        "round(df[['company_location', 'salary_in_usd']].groupby('company_location').agg(company_location_and_salary_agg).sort_values(by='salary_in_usd', ascending=False), 0)"
      ]
    },
    {
      "cell_type": "markdown",
      "metadata": {
        "id": "Js42Iut5DzQ-"
      },
      "source": [
        "### What percent of employees are based in another country but are paid in USD?\n",
        "This is a tricky one.\n",
        "\n",
        "To figure this out, I'll need to make a filter that gets out only employees that are in countries that are not the United States and whose salary currency is USD. Then, I can see how many rows that dataframe has and divide it by the number of rows in the original dataframe to get the answer.\n",
        "\n",
        "According to this data set, 8.24% of employees are based in another country but are paid in USD."
      ]
    },
    {
      "cell_type": "code",
      "execution_count": 173,
      "metadata": {},
      "outputs": [
        {
          "data": {
            "text/plain": [
              "8.24"
            ]
          },
          "execution_count": 173,
          "metadata": {},
          "output_type": "execute_result"
        }
      ],
      "source": [
        "other_country_usd_df = df[(df['company_location'] != 'US') & (df['salary_currency'] == 'USD')]\n",
        "percentage_other_country_usd_df = (other_country_usd_df['Unnamed: 0'].count() / df['Unnamed: 0'].count()) * 100\n",
        "round(percentage_other_country_usd_df, 2)"
      ]
    },
    {
      "cell_type": "markdown",
      "metadata": {
        "id": "TWCvnB1JEaXd"
      },
      "source": [
        "## Conclusion\n",
        "Data analyst roles salaries increase based on both experience and location in the world, with the US being the where the majority of jobs are located. "
      ]
    }
  ],
  "metadata": {
    "colab": {
      "private_outputs": true,
      "provenance": []
    },
    "kernelspec": {
      "display_name": "Python 3",
      "name": "python3"
    },
    "language_info": {
      "codemirror_mode": {
        "name": "ipython",
        "version": 3
      },
      "file_extension": ".py",
      "mimetype": "text/x-python",
      "name": "python",
      "nbconvert_exporter": "python",
      "pygments_lexer": "ipython3",
      "version": "3.10.0"
    }
  },
  "nbformat": 4,
  "nbformat_minor": 0
}
